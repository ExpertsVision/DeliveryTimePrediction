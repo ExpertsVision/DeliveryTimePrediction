{
 "cells": [
  {
   "cell_type": "code",
   "execution_count": 3,
   "metadata": {
    "scrolled": true
   },
   "outputs": [
    {
     "name": "stderr",
     "output_type": "stream",
     "text": [
      "/home/expertsvision/Desktop/GA_implemented_with_flask/server/venv/lib/python3.5/site-packages/sklearn/cross_validation.py:41: DeprecationWarning: This module was deprecated in version 0.18 in favor of the model_selection module into which all the refactored classes and functions are moved. Also note that the interface of the new CV iterators are different from that of this module. This module will be removed in 0.20.\n",
      "  \"This module will be removed in 0.20.\", DeprecationWarning)\n",
      "/home/expertsvision/Desktop/GA_implemented_with_flask/server/venv/lib/python3.5/site-packages/sklearn/grid_search.py:42: DeprecationWarning: This module was deprecated in version 0.18 in favor of the model_selection module into which all the refactored classes and functions are moved. This module will be removed in 0.20.\n",
      "  DeprecationWarning)\n"
     ]
    }
   ],
   "source": [
    "import pandas as pd\n",
    "import numpy as np\n",
    "from sklearn.metrics import r2_score\n",
    "from sklearn.model_selection import train_test_split\n",
    "from sklearn.metrics import mean_squared_error\n",
    "from sklearn.preprocessing import StandardScaler\n",
    "from matplotlib import pyplot as plt\n",
    "from sklearn.externals import joblib\n",
    "from sklearn import tree\n",
    "from sklearn.externals import joblib\n",
    "from sklearn.grid_search import GridSearchCV"
   ]
  },
  {
   "cell_type": "code",
   "execution_count": 4,
   "metadata": {},
   "outputs": [],
   "source": [
    "def get_time(x, c1, c2):     #find the difference between two date columns of dataframe x\n",
    "    diff =  x[c2] - x[c1]\n",
    "    days = diff.days\n",
    "    days_to_hours = days * 24\n",
    "    diff_btw_two_times = (diff.seconds) / 3600\n",
    "    overall_hours = days_to_hours + diff_btw_two_times\n",
    "    return overall_hours"
   ]
  },
  {
   "cell_type": "code",
   "execution_count": 5,
   "metadata": {},
   "outputs": [],
   "source": [
    "file = 'DataForMLLive.xlsx'\n",
    "data = pd.ExcelFile(file)\n",
    "df = data.parse('Order History')"
   ]
  },
  {
   "cell_type": "code",
   "execution_count": 6,
   "metadata": {},
   "outputs": [],
   "source": [
    "col_names= ['Created Time', 'Delivered Time']\n",
    "df.dropna(subset=col_names, how='any', inplace = True)"
   ]
  },
  {
   "cell_type": "code",
   "execution_count": 8,
   "metadata": {},
   "outputs": [],
   "source": [
    "info_taken = pd.DataFrame()\n",
    "info_taken['Created Time'] = df['Created Time']\n",
    "info_taken['Hours2deliver']= df.apply(get_time, c1='Created Time', c2='Delivered Time', axis=1)\n",
    "info_taken['LocationCode']= df['Location Code']\n",
    "#info_taken['Pending Orders Location Wise']= df['Pending Orders Location Wise'] "
   ]
  },
  {
   "cell_type": "code",
   "execution_count": 9,
   "metadata": {
    "scrolled": true
   },
   "outputs": [
    {
     "data": {
      "image/png": "[encoded data removed]",
      "text/plain": [
       "<Figure size 432x288 with 1 Axes>"
      ]
     },
     "metadata": {},
     "output_type": "display_data"
    }
   ],
   "source": [
    "is_strange =  info_taken['Hours2deliver']>4\n",
    "info_taken= info_taken[~is_strange]\n",
    "plt.plot(info_taken['Hours2deliver'].values, color= 'green', label= 'Hours to deliver') # p\n",
    "plt.ylabel('Hours')\n",
    "plt.xlabel('Sample')\n",
    "plt.title('Time taken to make delivery')\n",
    "plt.legend()\n",
    "plt.show()"
   ]
  },
  {
   "cell_type": "code",
   "execution_count": 16,
   "metadata": {},
   "outputs": [
    {
     "name": "stderr",
     "output_type": "stream",
     "text": [
      "/home/expertsvision/Desktop/GA_implemented_with_flask/server/venv/lib/python3.5/site-packages/sklearn/utils/validation.py:475: DataConversionWarning: Data with input dtype int64 was converted to float64 by StandardScaler.\n",
      "  warnings.warn(msg, DataConversionWarning)\n"
     ]
    },
    {
     "data": {
      "text/plain": [
       "array([[ 0.77777804, -1.41712275],\n",
       "       [ 0.2401484 ,  0.29673077],\n",
       "       [-0.09405381,  0.59874072],\n",
       "       ...,\n",
       "       [ 0.71965591, -0.75854278],\n",
       "       [-2.81126304,  0.50639776],\n",
       "       [-0.09405381,  0.05931679]])"
      ]
     },
     "execution_count": 16,
     "metadata": {},
     "output_type": "execute_result"
    }
   ],
   "source": [
    "timstamp_into_int = info_taken['Created Time'].values.astype(int)\n",
    "\n",
    "location_code = info_taken[['LocationCode']].values\n",
    "X = np.insert(location_code, 1,timstamp_into_int , axis=1)\n",
    "Y = np.reshape(info_taken['Hours2deliver'].values, -1)\n",
    "X_trn, X_tst, Y_trn, Y_tst = train_test_split(X, Y, test_size=0.3, random_state=42)\n",
    "X_trn"
   ]
  },
  {
   "cell_type": "code",
   "execution_count": 118,
   "metadata": {},
   "outputs": [
    {
     "data": {
      "text/plain": [
       "['model1_dt.sav']"
      ]
     },
     "execution_count": 118,
     "metadata": {},
     "output_type": "execute_result"
    }
   ],
   "source": [
    "tree_regression_model = tree.DecisionTreeRegressor(min_samples_split=31, max_depth=29, random_state=0)\n",
    "trained_model = tree_regression_model.fit(X_trn, Y_trn)\n",
    "joblib.dump(trained_model, 'model1_dt.sav')"
   ]
  },
  {
   "cell_type": "code",
   "execution_count": 152,
   "metadata": {},
   "outputs": [],
   "source": [
    "from sklearn.metrics import make_scorer\n",
    "tree_regression_Model = tree.DecisionTreeRegressor(random_state=0)\n",
    "scoring = make_scorer(r2_score)\n",
    "parameters={'max_depth': np.arange(15, 30), 'min_samples_split':np.arange(30, 42)}\n",
    "#cross_validation = StratifiedKFold(n_splits=5)\n",
    "grid_search = GridSearchCV(tree_regression_Model, parameters, cv=10, n_jobs=4, refit=True, scoring=scoring,verbose=1)"
   ]
  },
  {
   "cell_type": "code",
   "execution_count": 153,
   "metadata": {
    "scrolled": true
   },
   "outputs": [
    {
     "name": "stdout",
     "output_type": "stream",
     "text": [
      "Fitting 10 folds for each of 180 candidates, totalling 1800 fits\n"
     ]
    },
    {
     "name": "stderr",
     "output_type": "stream",
     "text": [
      "[Parallel(n_jobs=4)]: Done  76 tasks      | elapsed:    2.6s\n",
      "[Parallel(n_jobs=4)]: Done 376 tasks      | elapsed:   14.4s\n",
      "[Parallel(n_jobs=4)]: Done 876 tasks      | elapsed:   38.7s\n",
      "[Parallel(n_jobs=4)]: Done 1576 tasks      | elapsed:  1.3min\n",
      "[Parallel(n_jobs=4)]: Done 1800 out of 1800 | elapsed:  1.6min finished\n"
     ]
    },
    {
     "data": {
      "text/plain": [
       "GridSearchCV(cv=10, error_score='raise',\n",
       "       estimator=DecisionTreeRegressor(criterion='mse', max_depth=None, max_features=None,\n",
       "           max_leaf_nodes=None, min_impurity_decrease=0.0,\n",
       "           min_impurity_split=None, min_samples_leaf=1,\n",
       "           min_samples_split=2, min_weight_fraction_leaf=0.0,\n",
       "           presort=False, random_state=0, splitter='best'),\n",
       "       fit_params={}, iid=True, n_jobs=4,\n",
       "       param_grid={'min_samples_split': array([30, 31, 32, 33, 34, 35, 36, 37, 38, 39, 40, 41]), 'max_depth': array([15, 16, 17, 18, 19, 20, 21, 22, 23, 24, 25, 26, 27, 28, 29])},\n",
       "       pre_dispatch='2*n_jobs', refit=True, scoring=make_scorer(r2_score),\n",
       "       verbose=1)"
      ]
     },
     "execution_count": 153,
     "metadata": {},
     "output_type": "execute_result"
    }
   ],
   "source": [
    "#grid_search = tree.DecisionTreeRegressor(criterion='mae', random_state=0, max_depth=19, min_samples_split=45)\n",
    "grid_search.fit(X_trn,Y_trn)"
   ]
  },
  {
   "cell_type": "code",
   "execution_count": 154,
   "metadata": {},
   "outputs": [
    {
     "name": "stdout",
     "output_type": "stream",
     "text": [
      "{'min_samples_split': 41, 'max_depth': 15}\n",
      "[0.1547776 0.7961235 0.0490989]\n"
     ]
    }
   ],
   "source": [
    "print(grid_search.best_params_)\n",
    "print(grid_search.best_estimator_.feature_importances_)"
   ]
  },
  {
   "cell_type": "code",
   "execution_count": 156,
   "metadata": {},
   "outputs": [],
   "source": [
    "#predict_model = trained_model.predict(X_tst)\n",
    "predict_model = grid_search.best_estimator_.predict(X_tst)"
   ]
  },
  {
   "cell_type": "code",
   "execution_count": 116,
   "metadata": {},
   "outputs": [
    {
     "name": "stdout",
     "output_type": "stream",
     "text": [
      "Mean squared error: \n",
      "0.4966756966248723\n",
      "r2\n",
      "0.28310802943363444\n"
     ]
    },
    {
     "data": {
      "text/plain": [
       "0.2830075821910162"
      ]
     },
     "execution_count": 116,
     "metadata": {},
     "output_type": "execute_result"
    }
   ],
   "source": [
    "print(\"Mean squared error: \"  )\n",
    "mse= mean_squared_error(Y_tst, predict_model,)\n",
    "print(mse)\n",
    "\n",
    "print('r2')\n",
    "r2 = r2_score(Y_tst, predict_model, sample_weight=None, multioutput='uniform_average')\n",
    "print(r2)\n",
    "adj_r2 = 1-(1-r2) * (X_tst.shape[0] -1)/(X_tst.shape[0]-X_tst.shape[1] -1)\n",
    "adj_r2"
   ]
  },
  {
   "cell_type": "code",
   "execution_count": 117,
   "metadata": {},
   "outputs": [
    {
     "data": {
      "image/png": "[encoded data removed]",
      "text/plain": [
       "<Figure size 432x288 with 1 Axes>"
      ]
     },
     "metadata": {},
     "output_type": "display_data"
    }
   ],
   "source": [
    "plt.plot(Y_tst, color= 'yellow', label= 'actual') # p\n",
    "plt.plot(predict_model, color= 'red', label= 'predicted') # p\n",
    "plt.xlabel('Sample')\n",
    "plt.ylabel('Time (in hours)')\n",
    "plt.title('Prediction results on testing data')\n",
    "plt.legend()\n",
    "plt.show()"
   ]
  },
  {
   "cell_type": "markdown",
   "metadata": {},
   "source": [
    "<H2> Convert time in to 2 dimension (sine and cosine) because of cyclic nature of time <H2>"
   ]
  },
  {
   "cell_type": "code",
   "execution_count": 66,
   "metadata": {},
   "outputs": [],
   "source": [
    "#sorted_df = df.sort_values(by=['Created Time'])\n",
    "created_week, created_day, df['created_time'] = zip(*[(d.dayofweek, d.date().day, \n",
    "                                                 d.date()) for d in df['Created Time']])\n",
    "#sorted_df = sorted_df.assign(created_week=created_week, created_day=created_day, created_time=created_time)"
   ]
  },
  {
   "cell_type": "code",
   "execution_count": 78,
   "metadata": {},
   "outputs": [],
   "source": [
    "#sorted_df = df.sort_values(by=['Delivered Time'])\n",
    "deliver_week, deliver_day, df['deliver_time'] = zip(*[(d.dayofweek, d.date().day, d.date()) \n",
    "                                                                    for d in df['Delivered Time']])\n",
    "#sorted_df = sorted_df.assign(deliver_week=deliver_week, deliver_day=deliver_day, deliver_time=deliver_time)"
   ]
  },
  {
   "cell_type": "code",
   "execution_count": 69,
   "metadata": {},
   "outputs": [],
   "source": [
    "df['diff'] = df['Created Time'] - df['created_time'].apply(pd.to_datetime)"
   ]
  },
  {
   "cell_type": "code",
   "execution_count": 75,
   "metadata": {},
   "outputs": [],
   "source": [
    "df['seconds'] = df['diff'].dt.total_seconds()"
   ]
  },
  {
   "cell_type": "code",
   "execution_count": 77,
   "metadata": {},
   "outputs": [
    {
     "data": {
      "image/png": "[encoded data removed]",
      "text/plain": [
       "<Figure size 432x288 with 1 Axes>"
      ]
     },
     "metadata": {},
     "output_type": "display_data"
    }
   ],
   "source": [
    "df['hour_sin'] = np.sin(2 * np.pi * df['seconds']/86400.0)\n",
    "df['hour_cos'] = np.cos(2 * np.pi * df['seconds']/86400.0)\n",
    "df.plot.scatter('hour_sin','hour_cos').set_aspect('equal');"
   ]
  },
  {
   "cell_type": "code",
   "execution_count": 81,
   "metadata": {},
   "outputs": [],
   "source": [
    "df['del_diff'] = df['Delivered Time'] - df['deliver_time'].apply(pd.to_datetime)\n",
    "df['del_seconds'] = df['del_diff'].dt.total_seconds() "
   ]
  },
  {
   "cell_type": "code",
   "execution_count": 83,
   "metadata": {},
   "outputs": [
    {
     "data": {
      "image/png": "[encoded data removed]",
      "text/plain": [
       "<Figure size 432x288 with 1 Axes>"
      ]
     },
     "metadata": {},
     "output_type": "display_data"
    }
   ],
   "source": [
    "df['del_sin'] = np.sin(2 * np.pi * df['del_seconds']/86400.0)\n",
    "df['del_cos'] = np.cos(2 * np.pi * df['del_seconds']/86400.0)\n",
    "df.plot.scatter('hour_sin','hour_cos').set_aspect('equal');"
   ]
  },
  {
   "cell_type": "code",
   "execution_count": 151,
   "metadata": {},
   "outputs": [],
   "source": [
    "X = df[['hour_sin', 'hour_cos', 'Location Code']].values\n",
    "Y = df[['del_sin', 'del_cos']].values\n",
    "X_trn, X_tst, Y_trn, Y_tst = train_test_split(X, Y, test_size=0.3, random_state=42)"
   ]
  },
  {
   "cell_type": "code",
   "execution_count": 116,
   "metadata": {},
   "outputs": [],
   "source": [
    "tree_regression_model = tree.DecisionTreeRegressor()\n",
    "trained_model = tree_regression_model.fit(X_trn, Y_trn)"
   ]
  },
  {
   "cell_type": "code",
   "execution_count": 117,
   "metadata": {},
   "outputs": [],
   "source": [
    "predict_model = trained_model.predict(X_tst)"
   ]
  },
  {
   "cell_type": "code",
   "execution_count": 157,
   "metadata": {},
   "outputs": [
    {
     "name": "stdout",
     "output_type": "stream",
     "text": [
      "Mean squared error: \n",
      "0.06190700467273273\n",
      "r2\n",
      "0.7375748357960936\n"
     ]
    },
    {
     "data": {
      "text/plain": [
       "0.7375242006344901"
      ]
     },
     "execution_count": 157,
     "metadata": {},
     "output_type": "execute_result"
    }
   ],
   "source": [
    "print(\"Mean squared error: \"  )\n",
    "mse= mean_squared_error(Y_tst, predict_model,)\n",
    "print(mse)\n",
    "\n",
    "print('r2')\n",
    "r2 = r2_score(Y_tst, predict_model, sample_weight=None, multioutput='uniform_average')\n",
    "print(r2)\n",
    "adj_r2 = 1-(1-r2) * (X_tst.shape[0] -1)/(X_tst.shape[0]-X_tst.shape[1] -1)\n",
    "adj_r2"
   ]
  },
  {
   "cell_type": "code",
   "execution_count": 165,
   "metadata": {},
   "outputs": [
    {
     "data": {
      "image/png": "[encoded data removed]",
      "text/plain": [
       "<Figure size 432x288 with 1 Axes>"
      ]
     },
     "metadata": {},
     "output_type": "display_data"
    }
   ],
   "source": [
    "plt.plot(Y_tst[1000:1050,0],'*', color= 'yellow', label= 'actual') # p\n",
    "plt.plot(predict_model[1000:1050,0],'.', color= 'red', label= 'predicted') # p\n",
    "plt.xlabel('Sample')\n",
    "plt.ylabel('Time (in hours)')\n",
    "plt.title('Prediction results on testing data')\n",
    "plt.legend()\n",
    "plt.show()"
   ]
  },
  {
   "cell_type": "code",
   "execution_count": 161,
   "metadata": {},
   "outputs": [
    {
     "data": {
      "image/png": "[encoded data removed]",
      "text/plain": [
       "<Figure size 432x288 with 1 Axes>"
      ]
     },
     "metadata": {},
     "output_type": "display_data"
    }
   ],
   "source": [
    "plt.plot(Y_tst[0,:], 'y+', color= 'yellow',marker='o', label= 'actual') # p\n",
    "plt.plot(predict_model[0,:], 'r+',color= 'red', label= 'predicted') # p\n",
    "plt.xlabel('Sample')\n",
    "plt.ylabel('Time (in hours)')\n",
    "plt.title('Prediction results on testing data')\n",
    "plt.legend()\n",
    "plt.show()"
   ]
  },
  {
   "cell_type": "code",
   "execution_count": 122,
   "metadata": {},
   "outputs": [
    {
     "data": {
      "text/plain": [
       "(15552,)"
      ]
     },
     "execution_count": 122,
     "metadata": {},
     "output_type": "execute_result"
    }
   ],
   "source": [
    "Y_tst[:,0].shape"
   ]
  },
  {
   "cell_type": "code",
   "execution_count": 125,
   "metadata": {},
   "outputs": [],
   "source": [
    "conv_sec = np.abs((np.arcsin(predict_model[:,0]))*(total_seconds/2*np.pi))"
   ]
  },
  {
   "cell_type": "code",
   "execution_count": 127,
   "metadata": {},
   "outputs": [
    {
     "data": {
      "text/plain": [
       "213163.72572430287"
      ]
     },
     "execution_count": 127,
     "metadata": {},
     "output_type": "execute_result"
    }
   ],
   "source": [
    "conv_sec.max()"
   ]
  },
  {
   "cell_type": "code",
   "execution_count": 128,
   "metadata": {},
   "outputs": [
    {
     "data": {
      "text/plain": [
       "86400"
      ]
     },
     "execution_count": 128,
     "metadata": {},
     "output_type": "execute_result"
    }
   ],
   "source": [
    "total_seconds"
   ]
  },
  {
   "cell_type": "code",
   "execution_count": 150,
   "metadata": {},
   "outputs": [
    {
     "data": {
      "text/plain": [
       "0.0"
      ]
     },
     "execution_count": 150,
     "metadata": {},
     "output_type": "execute_result"
    }
   ],
   "source": [
    "days = conv_sec//86400 \n",
    "days.min()"
   ]
  },
  {
   "cell_type": "code",
   "execution_count": 148,
   "metadata": {},
   "outputs": [
    {
     "data": {
      "text/plain": [
       "0.0"
      ]
     },
     "execution_count": 148,
     "metadata": {},
     "output_type": "execute_result"
    }
   ],
   "source": [
    "hours = conv_sec//3600\n",
    "hours.min()"
   ]
  },
  {
   "cell_type": "code",
   "execution_count": 142,
   "metadata": {},
   "outputs": [
    {
     "data": {
      "text/plain": [
       "3552.0"
      ]
     },
     "execution_count": 142,
     "metadata": {},
     "output_type": "execute_result"
    }
   ],
   "source": [
    "minutes = conv_sec//60\n",
    "minutes.max()"
   ]
  },
  {
   "cell_type": "code",
   "execution_count": null,
   "metadata": {},
   "outputs": [],
   "source": []
  }
 ],
 "metadata": {
  "kernelspec": {
   "display_name": "Python 3",
   "language": "python",
   "name": "python3"
  },
  "language_info": {
   "codemirror_mode": {
    "name": "ipython",
    "version": 3
   },
   "file_extension": ".py",
   "mimetype": "text/x-python",
   "name": "python",
   "nbconvert_exporter": "python",
   "pygments_lexer": "ipython3",
   "version": "3.5.2"
  }
 },
 "nbformat": 4,
 "nbformat_minor": 2
}
