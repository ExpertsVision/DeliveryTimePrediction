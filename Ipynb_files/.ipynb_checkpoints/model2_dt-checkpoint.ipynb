{
 "cells": [
  {
   "cell_type": "code",
   "execution_count": 1,
   "metadata": {},
   "outputs": [],
   "source": [
    "import matplotlib.pyplot as plt\n",
    "from datetime import datetime\n",
    "import pandas as pd\n",
    "import numpy as np\n",
    "from sklearn.model_selection import train_test_split\n",
    "from sklearn.metrics import mean_squared_error, r2_score\n",
    "from sklearn.preprocessing import StandardScaler\n",
    "from sklearn import tree\n",
    "from sklearn.externals import joblib\n",
    "from sklearn.decomposition import PCA"
   ]
  },
  {
   "cell_type": "code",
   "execution_count": 3,
   "metadata": {},
   "outputs": [],
   "source": [
    "def get_time(x, c1, c2):     #find the difference between two date columns of dataframe x\n",
    "    diff =  x[c2] - x[c1]\n",
    "    days = diff.days\n",
    "    days_to_hours = days * 24\n",
    "    diff_btw_two_times = (diff.seconds) / 3600\n",
    "    overall_hours = days_to_hours + diff_btw_two_times\n",
    "    return overall_hours"
   ]
  },
  {
   "cell_type": "code",
   "execution_count": 2,
   "metadata": {},
   "outputs": [],
   "source": [
    "file = 'deliver_OCT_2018.xlsx'\n",
    "data = pd.ExcelFile(file)\n",
    "df = data.parse('Order History_1')"
   ]
  },
  {
   "cell_type": "code",
   "execution_count": 3,
   "metadata": {},
   "outputs": [
    {
     "data": {
      "text/plain": [
       "(2315, 17)"
      ]
     },
     "execution_count": 3,
     "metadata": {},
     "output_type": "execute_result"
    }
   ],
   "source": [
    "col_names= ['Created Time', 'Biker Assigned Time', 'Delivered Time']\n",
    "df.dropna(subset=col_names, how='any', inplace = True)\n",
    "df.shape"
   ]
  },
  {
   "cell_type": "code",
   "execution_count": 7,
   "metadata": {},
   "outputs": [],
   "source": [
    "timestamp_info = pd.DataFrame(columns=['Created Time', 'Biker Assigned Time'])\n",
    "timestamp_info[col_names] = df[col_names].apply(pd.to_datetime, format='%Y-%m-%d %H:%M:%S.%f')\n",
    "info_taken = pd.DataFrame()\n",
    "#info_taken['Hours2assign']= df.apply(get_time,c1='Created Time', c2='Biker Assigned Time', axis=1)\n",
    "#info_taken['Hours2accept']= df.apply(get_time,c1='Biker Assigned Time', c2='Biker Accepted Time', axis=1)\n",
    "info_taken['Hours2deliver']= df.apply(get_time, c1='Biker Assigned Time', c2='Delivered Time', axis=1)\n",
    "df['BikerID'], levels = pd.factorize(df['Biker'])\n",
    "#info_taken['LocationCode']= df['Location Code']\n",
    "#info_taken['Pending Order By Biker'] = df['Pending Order By Biker']\n",
    "#info_taken['Pending Orders Location Wise']= df['Pending Orders Location Wise'] "
   ]
  },
  {
   "cell_type": "code",
   "execution_count": 284,
   "metadata": {},
   "outputs": [
    {
     "data": {
      "text/plain": [
       "(51837, 6)"
      ]
     },
     "execution_count": 284,
     "metadata": {},
     "output_type": "execute_result"
    }
   ],
   "source": [
    "info_taken.shape"
   ]
  },
  {
   "cell_type": "code",
   "execution_count": 285,
   "metadata": {
    "scrolled": true
   },
   "outputs": [
    {
     "data": {
      "image/png": "[encoded data removed]",
      "text/plain": [
       "<Figure size 432x288 with 1 Axes>"
      ]
     },
     "metadata": {},
     "output_type": "display_data"
    },
    {
     "data": {
      "text/plain": [
       "(49848,)"
      ]
     },
     "execution_count": 285,
     "metadata": {},
     "output_type": "execute_result"
    }
   ],
   "source": [
    "rm_grtr_4 =  info_taken['Hours2deliver'] > 4\n",
    "info_taken = info_taken[~rm_grtr_4]\n",
    "rm_neg = info_taken['Hours2deliver'] < 0\n",
    "info_taken= info_taken[~rm_neg]\n",
    "plt.plot(info_taken['Hours2deliver'].values, color= 'green', label= 'Hours to deliver') # p\n",
    "plt.ylabel('Hours')\n",
    "plt.xlabel('Sample')\n",
    "plt.title('Time taken to make delivery')\n",
    "plt.legend()\n",
    "plt.show()\n",
    "rm_neg.shape"
   ]
  },
  {
   "cell_type": "code",
   "execution_count": 328,
   "metadata": {},
   "outputs": [
    {
     "name": "stderr",
     "output_type": "stream",
     "text": [
      "/home/expertsvision/Desktop/GA_implemented_with_flask/server/venv/lib/python3.5/site-packages/ipykernel_launcher.py:1: UserWarning: Boolean Series key will be reindexed to match DataFrame index.\n",
      "  \"\"\"Entry point for launching an IPython kernel.\n",
      "/home/expertsvision/Desktop/GA_implemented_with_flask/server/venv/lib/python3.5/site-packages/ipykernel_launcher.py:2: UserWarning: Boolean Series key will be reindexed to match DataFrame index.\n",
      "  \n"
     ]
    }
   ],
   "source": [
    "df = df [~rm_grtr_4]\n",
    "df = df[~rm_neg]\n",
    "timestamp_info = df[['Created Time', 'Biker Assigned Time']].values.astype(int)\n",
    "location_code = info_taken[['BikerID']].values\n",
    "X = np.concatenate((timestamp_info, location_code), axis=1)\n",
    "#X= info_taken[['BikerID', 'Hours2assign']].values #, \n",
    "Y= np.reshape(info_taken['Hours2deliver'].values, -1)"
   ]
  },
  {
   "cell_type": "code",
   "execution_count": 329,
   "metadata": {},
   "outputs": [],
   "source": [
    "X_trn, X_tst, Y_trn, Y_tst = train_test_split(X, Y, test_size=0.3)"
   ]
  },
  {
   "cell_type": "code",
   "execution_count": 338,
   "metadata": {
    "scrolled": true
   },
   "outputs": [
    {
     "data": {
      "text/plain": [
       "['model2_dt.sav']"
      ]
     },
     "execution_count": 338,
     "metadata": {},
     "output_type": "execute_result"
    }
   ],
   "source": [
    "tree_regression_model = tree.DecisionTreeRegressor(max_depth=19, min_samples_split=17, random_state=0)\n",
    "trained_model = tree_regression_model.fit(X_trn, Y_trn)\n",
    "joblib.dump(trained_model, 'model2_dt.sav')"
   ]
  },
  {
   "cell_type": "code",
   "execution_count": 322,
   "metadata": {},
   "outputs": [],
   "source": [
    "from sklearn.metrics import make_scorer\n",
    "from sklearn.grid_search import GridSearchCV\n",
    "tree_regression_Model = tree.DecisionTreeRegressor(random_state=0)\n",
    "scoring = make_scorer(r2_score)\n",
    "parameters={'max_depth': np.arange(2, 20), 'min_samples_split':np.arange(15, 31)}\n",
    "#cross_validation = StratifiedKFold(n_splits=5)\n",
    "grid_search = GridSearchCV(tree_regression_Model, parameters, cv=5, n_jobs=6, scoring=scoring, verbose=1)"
   ]
  },
  {
   "cell_type": "code",
   "execution_count": 323,
   "metadata": {
    "scrolled": true
   },
   "outputs": [
    {
     "name": "stdout",
     "output_type": "stream",
     "text": [
      "Fitting 5 folds for each of 288 candidates, totalling 1440 fits\n"
     ]
    },
    {
     "name": "stderr",
     "output_type": "stream",
     "text": [
      "[Parallel(n_jobs=6)]: Done 168 tasks      | elapsed:    1.4s\n",
      "[Parallel(n_jobs=6)]: Done 869 tasks      | elapsed:   19.7s\n",
      "[Parallel(n_jobs=6)]: Done 1119 tasks      | elapsed:   33.9s\n",
      "[Parallel(n_jobs=6)]: Done 1440 out of 1440 | elapsed:   53.4s finished\n"
     ]
    },
    {
     "data": {
      "text/plain": [
       "GridSearchCV(cv=5, error_score='raise',\n",
       "       estimator=DecisionTreeRegressor(criterion='mse', max_depth=None, max_features=None,\n",
       "           max_leaf_nodes=None, min_impurity_decrease=0.0,\n",
       "           min_impurity_split=None, min_samples_leaf=1,\n",
       "           min_samples_split=2, min_weight_fraction_leaf=0.0,\n",
       "           presort=False, random_state=0, splitter='best'),\n",
       "       fit_params={}, iid=True, n_jobs=6,\n",
       "       param_grid={'max_depth': array([ 2,  3,  4,  5,  6,  7,  8,  9, 10, 11, 12, 13, 14, 15, 16, 17, 18,\n",
       "       19]), 'min_samples_split': array([15, 16, 17, 18, 19, 20, 21, 22, 23, 24, 25, 26, 27, 28, 29, 30])},\n",
       "       pre_dispatch='2*n_jobs', refit=True, scoring=make_scorer(r2_score),\n",
       "       verbose=1)"
      ]
     },
     "execution_count": 323,
     "metadata": {},
     "output_type": "execute_result"
    }
   ],
   "source": [
    "grid_search.fit(X_trn,Y_trn)"
   ]
  },
  {
   "cell_type": "code",
   "execution_count": 324,
   "metadata": {},
   "outputs": [
    {
     "name": "stdout",
     "output_type": "stream",
     "text": [
      "{'max_depth': 19, 'min_samples_split': 17}\n",
      "[0.32665087 0.44908544 0.22426369]\n"
     ]
    }
   ],
   "source": [
    "print(grid_search.best_params_)\n",
    "print(grid_search.best_estimator_.feature_importances_)"
   ]
  },
  {
   "cell_type": "code",
   "execution_count": 335,
   "metadata": {},
   "outputs": [],
   "source": [
    "predict_model = trained_model.predict(X_tst)\n",
    "#predict_model = grid_search.best_estimator_.predict(X_tst)"
   ]
  },
  {
   "cell_type": "code",
   "execution_count": 336,
   "metadata": {
    "scrolled": true
   },
   "outputs": [
    {
     "name": "stdout",
     "output_type": "stream",
     "text": [
      "Mean squared error: \n",
      "0.31865630702038317\n",
      "0.3981557483739835\n"
     ]
    },
    {
     "data": {
      "text/plain": [
       "0.39803497695225254"
      ]
     },
     "execution_count": 336,
     "metadata": {},
     "output_type": "execute_result"
    }
   ],
   "source": [
    "print(\"Mean squared error: \"  )\n",
    "mse= mean_squared_error(Y_tst, predict_model)\n",
    "print(mse)\n",
    "\n",
    "r2 = r2_score(Y_tst, predict_model, sample_weight=None, multioutput='uniform_average')\n",
    "print(r2)\n",
    "adj_r2 = 1-(1-r2) * (X_tst.shape[0] -1)/(X_tst.shape[0]-X_tst.shape[1] -1)\n",
    "adj_r2"
   ]
  },
  {
   "cell_type": "code",
   "execution_count": 337,
   "metadata": {},
   "outputs": [
    {
     "data": {
      "image/png": "[encoded data removed]",
      "text/plain": [
       "<Figure size 432x288 with 1 Axes>"
      ]
     },
     "metadata": {},
     "output_type": "display_data"
    }
   ],
   "source": [
    "plt.plot(Y_tst, color= 'yellow', label= 'actual') # p\n",
    "plt.plot(predict_model, color= 'red', label= 'predicted') # p\n",
    "plt.xlabel('Sample')\n",
    "plt.ylabel('Time (in hours)')\n",
    "plt.title('Prediction results on testing data')\n",
    "plt.legend()\n",
    "plt.show()"
   ]
  },
  {
   "cell_type": "markdown",
   "metadata": {},
   "source": [
    "<H2> Convert time in to 2 dimension (sine and cosine) because of cyclic nature of time <H2>"
   ]
  },
  {
   "cell_type": "code",
   "execution_count": 4,
   "metadata": {},
   "outputs": [],
   "source": [
    "created_week, created_day, df['BikerAssignedTime'] = zip(*[(d.dayofweek, d.date().day, \n",
    "                                                 d.date()) for d in df['Biker Assigned Time']])"
   ]
  },
  {
   "cell_type": "code",
   "execution_count": 5,
   "metadata": {},
   "outputs": [],
   "source": [
    "deliver_week, deliver_day, df['deliver_time'] = zip(*[(d.dayofweek, d.date().day, d.date()) \n",
    "                                                                    for d in df['Delivered Time']])"
   ]
  },
  {
   "cell_type": "code",
   "execution_count": 6,
   "metadata": {},
   "outputs": [],
   "source": [
    "df['diff'] = df['Biker Assigned Time'] - df['BikerAssignedTime'].apply(pd.to_datetime)"
   ]
  },
  {
   "cell_type": "code",
   "execution_count": 7,
   "metadata": {},
   "outputs": [],
   "source": [
    "df['seconds'] = df['diff'].dt.total_seconds()"
   ]
  },
  {
   "cell_type": "code",
   "execution_count": 8,
   "metadata": {},
   "outputs": [
    {
     "data": {
      "image/png": "[encoded data removed]",
      "text/plain": [
       "<Figure size 432x288 with 1 Axes>"
      ]
     },
     "metadata": {},
     "output_type": "display_data"
    }
   ],
   "source": [
    "df['hour_sin'] = np.sin(2 * np.pi * df['seconds']/86400.0)\n",
    "df['hour_cos'] = np.cos(2 * np.pi * df['seconds']/86400.0)\n",
    "df.plot.scatter('hour_sin','hour_cos').set_aspect('equal')"
   ]
  },
  {
   "cell_type": "code",
   "execution_count": null,
   "metadata": {},
   "outputs": [],
   "source": [
    "df['del_diff'] = df['Delivered Time'] - df['deliver_time'].apply(pd.to_datetime)\n",
    "df['del_seconds'] = df['del_diff'].dt.total_seconds() "
   ]
  },
  {
   "cell_type": "code",
   "execution_count": 15,
   "metadata": {},
   "outputs": [
    {
     "data": {
      "image/png": "[encoded data removed]",
      "text/plain": [
       "<Figure size 432x288 with 1 Axes>"
      ]
     },
     "metadata": {},
     "output_type": "display_data"
    }
   ],
   "source": [
    "df['del_sin'] = np.sin(2 * np.pi * df['del_seconds']/86400.0)\n",
    "df['del_cos'] = np.cos(2 * np.pi * df['del_seconds']/86400.0)\n",
    "df.plot.scatter('hour_sin','hour_cos').set_aspect('equal')"
   ]
  },
  {
   "cell_type": "code",
   "execution_count": 16,
   "metadata": {},
   "outputs": [],
   "source": [
    "X = df[['hour_sin', 'hour_cos', 'BikerID']].values\n",
    "Y = df[['del_sin', 'del_cos']].values\n",
    "X_trn, X_tst, Y_trn, Y_tst = train_test_split(X, Y, test_size=0.3, random_state=42)"
   ]
  },
  {
   "cell_type": "code",
   "execution_count": 17,
   "metadata": {},
   "outputs": [],
   "source": [
    "tree_regression_model = tree.DecisionTreeRegressor()\n",
    "trained_model = tree_regression_model.fit(X_trn, Y_trn)"
   ]
  },
  {
   "cell_type": "code",
   "execution_count": 18,
   "metadata": {},
   "outputs": [],
   "source": [
    "predict_model = trained_model.predict(X_tst)"
   ]
  },
  {
   "cell_type": "code",
   "execution_count": 19,
   "metadata": {},
   "outputs": [
    {
     "name": "stdout",
     "output_type": "stream",
     "text": [
      "Mean squared error: \n",
      "0.0686371820189504\n",
      "r2\n",
      "0.7124258819971666\n"
     ]
    },
    {
     "data": {
      "text/plain": [
       "0.712370394323253"
      ]
     },
     "execution_count": 19,
     "metadata": {},
     "output_type": "execute_result"
    }
   ],
   "source": [
    "print(\"Mean squared error: \"  )\n",
    "mse= mean_squared_error(Y_tst, predict_model,)\n",
    "print(mse)\n",
    "\n",
    "print('r2')\n",
    "r2 = r2_score(Y_tst, predict_model, sample_weight=None, multioutput='uniform_average')\n",
    "print(r2)\n",
    "adj_r2 = 1-(1-r2) * (X_tst.shape[0] -1)/(X_tst.shape[0]-X_tst.shape[1] -1)\n",
    "adj_r2"
   ]
  },
  {
   "cell_type": "code",
   "execution_count": 29,
   "metadata": {},
   "outputs": [
    {
     "data": {
      "image/png": "[encoded data removed]",
      "text/plain": [
       "<Figure size 432x288 with 1 Axes>"
      ]
     },
     "metadata": {},
     "output_type": "display_data"
    }
   ],
   "source": [
    "plt.plot(Y_tst[1000:1100,0], 'g+', color= 'green', label= 'actual') # p\n",
    "plt.plot(predict_model[1000:1100,0], '*', color= 'red', label= 'predicted') # p\n",
    "plt.xlabel('Sample')\n",
    "plt.ylabel('Time (in hours)')\n",
    "plt.title('Prediction results on testing data')\n",
    "plt.legend()\n",
    "plt.show()"
   ]
  },
  {
   "cell_type": "code",
   "execution_count": 21,
   "metadata": {},
   "outputs": [
    {
     "data": {
      "image/png": "[encoded data removed]",
      "text/plain": [
       "<Figure size 432x288 with 1 Axes>"
      ]
     },
     "metadata": {},
     "output_type": "display_data"
    }
   ],
   "source": [
    "plt.plot(Y_tst[0,:], 'y+', color= 'yellow',marker='o', label= 'actual') # p\n",
    "plt.plot(predict_model[0,:], 'r+',color= 'red', label= 'predicted') # p\n",
    "plt.xlabel('Sample')\n",
    "plt.ylabel('Time (in hours)')\n",
    "plt.title('Prediction results on testing data')\n",
    "plt.legend()\n",
    "plt.show()"
   ]
  },
  {
   "cell_type": "code",
   "execution_count": null,
   "metadata": {},
   "outputs": [],
   "source": []
  }
 ],
 "metadata": {
  "kernelspec": {
   "display_name": "Python 3",
   "language": "python",
   "name": "python3"
  },
  "language_info": {
   "codemirror_mode": {
    "name": "ipython",
    "version": 3
   },
   "file_extension": ".py",
   "mimetype": "text/x-python",
   "name": "python",
   "nbconvert_exporter": "python",
   "pygments_lexer": "ipython3",
   "version": "3.5.2"
  }
 },
 "nbformat": 4,
 "nbformat_minor": 2
}
