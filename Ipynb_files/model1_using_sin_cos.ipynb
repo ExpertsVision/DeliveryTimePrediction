{
 "cells": [
  {
   "cell_type": "code",
   "execution_count": 1,
   "metadata": {
    "scrolled": true
   },
   "outputs": [
    {
     "name": "stderr",
     "output_type": "stream",
     "text": [
      "/home/expertsvision/Desktop/GA_implemented_with_flask/server/venv/lib/python3.5/site-packages/sklearn/cross_validation.py:41: DeprecationWarning: This module was deprecated in version 0.18 in favor of the model_selection module into which all the refactored classes and functions are moved. Also note that the interface of the new CV iterators are different from that of this module. This module will be removed in 0.20.\n",
      "  \"This module will be removed in 0.20.\", DeprecationWarning)\n",
      "/home/expertsvision/Desktop/GA_implemented_with_flask/server/venv/lib/python3.5/site-packages/sklearn/grid_search.py:42: DeprecationWarning: This module was deprecated in version 0.18 in favor of the model_selection module into which all the refactored classes and functions are moved. This module will be removed in 0.20.\n",
      "  DeprecationWarning)\n"
     ]
    }
   ],
   "source": [
    "import pandas as pd\n",
    "import numpy as np\n",
    "from sklearn.model_selection import train_test_split\n",
    "from sklearn.metrics import mean_squared_error, r2_score\n",
    "from sklearn.preprocessing import StandardScaler\n",
    "from matplotlib import pyplot as plt\n",
    "from sklearn.externals import joblib\n",
    "from sklearn import tree\n",
    "from sklearn.grid_search import GridSearchCV"
   ]
  },
  {
   "cell_type": "code",
   "execution_count": 2,
   "metadata": {},
   "outputs": [],
   "source": [
    "def get_time(x, c1, c2):     #find the difference between two date columns of dataframe x\n",
    "    diff =  x[c2] - x[c1]\n",
    "    days = diff.days\n",
    "    days_to_hours = days * 24\n",
    "    diff_btw_two_times = (diff.seconds) / 3600\n",
    "    overall_hours = days_to_hours + diff_btw_two_times\n",
    "    return overall_hours"
   ]
  },
  {
   "cell_type": "code",
   "execution_count": 3,
   "metadata": {},
   "outputs": [],
   "source": [
    "file = 'CF Data For ML - OCT 2018_OrgID.xlsx'\n",
    "data = pd.ExcelFile(file)\n",
    "df = data.parse('Order History_1')"
   ]
  },
  {
   "cell_type": "code",
   "execution_count": 4,
   "metadata": {},
   "outputs": [],
   "source": [
    "col_names= ['Created Time', 'Delivered Time','Total Orders to Assign', 'Qty']\n",
    "df.dropna(subset=col_names, how='any', inplace = True)\n",
    "df['Hours2deliver']= df.apply(get_time, c1='Created Time', c2='Delivered Time', axis=1)"
   ]
  },
  {
   "cell_type": "code",
   "execution_count": 142,
   "metadata": {},
   "outputs": [],
   "source": [
    "from sklearn.metrics import make_scorer\n",
    "tree_regression_Model = tree.DecisionTreeRegressor(random_state=0)\n",
    "scoring = make_scorer(r2_score)\n",
    "parameters={'max_depth': np.arange(5, 20), 'min_samples_split':np.arange(30, 45)}\n",
    "#cross_validation = StratifiedKFold(n_splits=5)\n",
    "grid_search = GridSearchCV(tree_regression_Model, parameters, cv=10, n_jobs=4, refit=True, scoring=scoring,verbose=1)"
   ]
  },
  {
   "cell_type": "code",
   "execution_count": 143,
   "metadata": {
    "scrolled": true
   },
   "outputs": [
    {
     "name": "stdout",
     "output_type": "stream",
     "text": [
      "Fitting 10 folds for each of 225 candidates, totalling 2250 fits\n"
     ]
    },
    {
     "name": "stderr",
     "output_type": "stream",
     "text": [
      "[Parallel(n_jobs=4)]: Done 1504 tasks      | elapsed:    4.4s\n",
      "[Parallel(n_jobs=4)]: Done 2250 out of 2250 | elapsed:    6.5s finished\n"
     ]
    },
    {
     "data": {
      "text/plain": [
       "GridSearchCV(cv=10, error_score='raise',\n",
       "       estimator=DecisionTreeRegressor(criterion='mse', max_depth=None, max_features=None,\n",
       "           max_leaf_nodes=None, min_impurity_decrease=0.0,\n",
       "           min_impurity_split=None, min_samples_leaf=1,\n",
       "           min_samples_split=2, min_weight_fraction_leaf=0.0,\n",
       "           presort=False, random_state=0, splitter='best'),\n",
       "       fit_params={}, iid=True, n_jobs=4,\n",
       "       param_grid={'min_samples_split': array([30, 31, 32, 33, 34, 35, 36, 37, 38, 39, 40, 41, 42, 43, 44]), 'max_depth': array([ 5,  6,  7,  8,  9, 10, 11, 12, 13, 14, 15, 16, 17, 18, 19])},\n",
       "       pre_dispatch='2*n_jobs', refit=True, scoring=make_scorer(r2_score),\n",
       "       verbose=1)"
      ]
     },
     "execution_count": 143,
     "metadata": {},
     "output_type": "execute_result"
    }
   ],
   "source": [
    "#grid_search = tree.DecisionTreeRegressor(criterion='mae', random_state=0, max_depth=19, min_samples_split=45)\n",
    "grid_search.fit(X_trn,Y_trn)"
   ]
  },
  {
   "cell_type": "code",
   "execution_count": 144,
   "metadata": {},
   "outputs": [
    {
     "name": "stdout",
     "output_type": "stream",
     "text": [
      "{'min_samples_split': 34, 'max_depth': 8}\n",
      "[0.03315285 0.58972944 0.02058413 0.07535583 0.28117775]\n"
     ]
    }
   ],
   "source": [
    "print(grid_search.best_params_)\n",
    "print(grid_search.best_estimator_.feature_importances_)"
   ]
  },
  {
   "cell_type": "code",
   "execution_count": 88,
   "metadata": {},
   "outputs": [],
   "source": [
    "#predict_model = trained_model.predict(X_tst)\n",
    "predict_model = grid_search.best_estimator_.predict(X_tst)"
   ]
  },
  {
   "cell_type": "markdown",
   "metadata": {},
   "source": [
    "<H2> Convert time in to 2 dimension (sine and cosine) because of cyclic nature of time <H2>"
   ]
  },
  {
   "cell_type": "code",
   "execution_count": 5,
   "metadata": {},
   "outputs": [],
   "source": [
    "#sorted_df = df.sort_values(by=['Created Time'])\n",
    "created_week, created_day, df['created_time'] = zip(*[(d.dayofweek, d.date().day, \n",
    "                                                 d.date()) for d in df['Created Time']])\n",
    "#sorted_df = sorted_df.assign(created_week=created_week, created_day=created_day, created_time=created_time)"
   ]
  },
  {
   "cell_type": "code",
   "execution_count": 6,
   "metadata": {},
   "outputs": [],
   "source": [
    "#sorted_df = df.sort_values(by=['Delivered Time'])\n",
    "deliver_week, deliver_day, df['deliver_time'] = zip(*[(d.dayofweek, d.date().day, d.date()) \n",
    "                                                                    for d in df['Delivered Time']])\n",
    "#sorted_df = sorted_df.assign(deliver_week=deliver_week, deliver_day=deliver_day, deliver_time=deliver_time)"
   ]
  },
  {
   "cell_type": "code",
   "execution_count": 7,
   "metadata": {},
   "outputs": [],
   "source": [
    "df['diff'] = df['Created Time'] - df['created_time'].apply(pd.to_datetime)"
   ]
  },
  {
   "cell_type": "code",
   "execution_count": 8,
   "metadata": {},
   "outputs": [],
   "source": [
    "df['seconds'] = df['diff'].dt.total_seconds()"
   ]
  },
  {
   "cell_type": "code",
   "execution_count": 9,
   "metadata": {},
   "outputs": [
    {
     "data": {
      "image/png": "[encoded data removed]",
      "text/plain": [
       "<Figure size 432x288 with 1 Axes>"
      ]
     },
     "metadata": {},
     "output_type": "display_data"
    }
   ],
   "source": [
    "df['hour_sin'] = np.sin(2 * np.pi * df['seconds']/86400.0)\n",
    "df['hour_cos'] = np.cos(2 * np.pi * df['seconds']/86400.0)\n",
    "df.plot.scatter('hour_sin','hour_cos').set_aspect('equal');"
   ]
  },
  {
   "cell_type": "code",
   "execution_count": 10,
   "metadata": {},
   "outputs": [],
   "source": [
    "df['del_diff'] = df['Delivered Time'] - df['deliver_time'].apply(pd.to_datetime)\n",
    "df['del_seconds'] = df['del_diff'].dt.total_seconds() "
   ]
  },
  {
   "cell_type": "code",
   "execution_count": 11,
   "metadata": {},
   "outputs": [
    {
     "data": {
      "image/png": "[encoded data removed]",
      "text/plain": [
       "<Figure size 432x288 with 1 Axes>"
      ]
     },
     "metadata": {},
     "output_type": "display_data"
    }
   ],
   "source": [
    "df['del_sin'] = np.sin(2 * np.pi * df['del_seconds']/86400.0)\n",
    "df['del_cos'] = np.cos(2 * np.pi * df['del_seconds']/86400.0)\n",
    "df.plot.scatter('del_sin','del_cos').set_aspect('equal');"
   ]
  },
  {
   "cell_type": "code",
   "execution_count": 24,
   "metadata": {},
   "outputs": [],
   "source": [
    "X = df[['Qty', 'Location Code','Total Orders to Assign', 'hour_sin', 'hour_cos']].values\n",
    "Y = df[['del_sin', 'del_cos']].values\n",
    "# = df['Hours2deliver'].values\n",
    "#X_trn, X_tst, Y_trn, Y_tst = train_test_split(X, Y, test_size=0.3, random_state=42)\n",
    "X_trn = X[0:3500, :]\n",
    "X_tst = X[3500:,:]\n",
    "Y_trn = Y[0:3500, :]\n",
    "Y_tst = Y[3500:,:]"
   ]
  },
  {
   "cell_type": "code",
   "execution_count": 25,
   "metadata": {},
   "outputs": [],
   "source": [
    "tree_regression_model = tree.DecisionTreeRegressor(max_depth=8, min_samples_split=34)\n",
    "trained_model = tree_regression_model.fit(X_trn, Y_trn)"
   ]
  },
  {
   "cell_type": "code",
   "execution_count": 26,
   "metadata": {},
   "outputs": [],
   "source": [
    "predict_model = trained_model.predict(X_tst)"
   ]
  },
  {
   "cell_type": "code",
   "execution_count": 27,
   "metadata": {},
   "outputs": [
    {
     "name": "stdout",
     "output_type": "stream",
     "text": [
      "Mean squared error: \n",
      "0.051803087978383636\n",
      "r2\n",
      "0.7578787490068262\n"
     ]
    },
    {
     "data": {
      "text/plain": [
       "0.7567598892517746"
      ]
     },
     "execution_count": 27,
     "metadata": {},
     "output_type": "execute_result"
    }
   ],
   "source": [
    "print(\"Mean squared error: \"  )\n",
    "mse= mean_squared_error(Y_tst, predict_model,)\n",
    "print(mse)\n",
    "print('r2')\n",
    "r2 = r2_score(Y_tst, predict_model, sample_weight=None, multioutput='uniform_average')\n",
    "print(r2)\n",
    "adj_r2 = 1-(1-r2) * (X_tst.shape[0] -1)/(X_tst.shape[0]-X_tst.shape[1] -1)\n",
    "adj_r2"
   ]
  },
  {
   "cell_type": "code",
   "execution_count": 28,
   "metadata": {},
   "outputs": [
    {
     "data": {
      "image/png": "[encoded data removed]",
      "text/plain": [
       "<Figure size 432x288 with 1 Axes>"
      ]
     },
     "metadata": {},
     "output_type": "display_data"
    }
   ],
   "source": [
    "plt.plot(Y_tst, color= 'yellow', label= 'actual') # p\n",
    "plt.plot(predict_model, color= 'red', label= 'predicted') # p\n",
    "plt.xlabel('Sample')\n",
    "plt.ylabel('Time (in hours)')\n",
    "plt.title('Prediction results on testing data')\n",
    "plt.legend()\n",
    "plt.show()"
   ]
  },
  {
   "cell_type": "code",
   "execution_count": 29,
   "metadata": {},
   "outputs": [
    {
     "data": {
      "image/png": "[encoded data removed]",
      "text/plain": [
       "<Figure size 432x288 with 1 Axes>"
      ]
     },
     "metadata": {},
     "output_type": "display_data"
    }
   ],
   "source": [
    "plt.plot(Y_tst[:,1],  color= 'yellow',marker='o', label= 'actual') # p\n",
    "plt.plot(predict_model[:,1], color= 'red', label= 'predicted') # p\n",
    "plt.xlabel('Sample')\n",
    "plt.ylabel('Time (in hours)')\n",
    "plt.title('Prediction results on testing data')\n",
    "plt.legend()\n",
    "plt.show()"
   ]
  },
  {
   "cell_type": "code",
   "execution_count": 56,
   "metadata": {},
   "outputs": [
    {
     "data": {
      "text/plain": [
       "array([-0.20271601, -0.90844742, -0.67376514, ..., -0.98860364,\n",
       "       -0.77792333, -0.97678148])"
      ]
     },
     "execution_count": 56,
     "metadata": {},
     "output_type": "execute_result"
    }
   ],
   "source": [
    "Y_tst[:,0]"
   ]
  },
  {
   "cell_type": "code",
   "execution_count": 44,
   "metadata": {},
   "outputs": [
    {
     "data": {
      "text/plain": [
       "3511    46006.999\n",
       "3512    70729.999\n",
       "3513    53365.999\n",
       "3514    55177.000\n",
       "3515    60194.999\n",
       "3516    49487.999\n",
       "3517    50417.999\n",
       "3518    62334.999\n",
       "3519    66673.000\n",
       "3520    46397.000\n",
       "Name: del_seconds, dtype: float64"
      ]
     },
     "execution_count": 44,
     "metadata": {},
     "output_type": "execute_result"
    }
   ],
   "source": [
    "df['del_seconds'][3500:3510]"
   ]
  },
  {
   "cell_type": "code",
   "execution_count": 46,
   "metadata": {},
   "outputs": [
    {
     "data": {
      "text/plain": [
       "3511   -0.202716\n",
       "3512   -0.908447\n",
       "3513   -0.673765\n",
       "3514   -0.764968\n",
       "3515   -0.944448\n",
       "3516   -0.441506\n",
       "3517   -0.501133\n",
       "3518   -0.983976\n",
       "3519   -0.990738\n",
       "3520   -0.230404\n",
       "Name: del_sin, dtype: float64"
      ]
     },
     "execution_count": 46,
     "metadata": {},
     "output_type": "execute_result"
    }
   ],
   "source": [
    "df['del_sin'][3500:3510]"
   ]
  },
  {
   "cell_type": "code",
   "execution_count": 49,
   "metadata": {},
   "outputs": [],
   "source": [
    "total_seconds=60*60*24\n",
    "sine_sec = np.abs((np.arcsin(predict_model[:,0]))*(total_seconds/2*np.pi))"
   ]
  },
  {
   "cell_type": "code",
   "execution_count": 50,
   "metadata": {},
   "outputs": [],
   "source": [
    "cosine_sec = np.abs((np.arcsin(predict_model[:,1]))*(total_seconds/2*np.pi))"
   ]
  },
  {
   "cell_type": "code",
   "execution_count": 51,
   "metadata": {},
   "outputs": [],
   "source": [
    "sine_autal_sec = np.abs((np.arcsin(Y_tst[:,0]))*(total_seconds/2*np.pi))"
   ]
  },
  {
   "cell_type": "code",
   "execution_count": 52,
   "metadata": {},
   "outputs": [],
   "source": [
    "cosine_autal_sec = np.abs((np.arcsin(Y_tst[:,1]))*(total_seconds/2*np.pi))"
   ]
  },
  {
   "cell_type": "code",
   "execution_count": 53,
   "metadata": {},
   "outputs": [],
   "source": [
    "df1 = pd.DataFrame()\n",
    "df1['sine_sec'] = sine_sec\n",
    "df1['sine_autal_sec'] = sine_autal_sec\n",
    "df1['cosine_sec'] = cosine_sec\n",
    "df1['cosine_autal_sec'] = cosine_autal_sec"
   ]
  },
  {
   "cell_type": "code",
   "execution_count": 54,
   "metadata": {},
   "outputs": [],
   "source": [
    "df1.to_csv('model1_time_comparison.csv', sep=',', index=False)"
   ]
  },
  {
   "cell_type": "code",
   "execution_count": 55,
   "metadata": {},
   "outputs": [
    {
     "data": {
      "text/html": [
       "<div>\n",
       "<style scoped>\n",
       "    .dataframe tbody tr th:only-of-type {\n",
       "        vertical-align: middle;\n",
       "    }\n",
       "\n",
       "    .dataframe tbody tr th {\n",
       "        vertical-align: top;\n",
       "    }\n",
       "\n",
       "    .dataframe thead th {\n",
       "        text-align: right;\n",
       "    }\n",
       "</style>\n",
       "<table border=\"1\" class=\"dataframe\">\n",
       "  <thead>\n",
       "    <tr style=\"text-align: right;\">\n",
       "      <th></th>\n",
       "      <th>sine_sec</th>\n",
       "      <th>sine_autal_sec</th>\n",
       "      <th>cosine_sec</th>\n",
       "      <th>cosine_autal_sec</th>\n",
       "    </tr>\n",
       "  </thead>\n",
       "  <tbody>\n",
       "    <tr>\n",
       "      <th>0</th>\n",
       "      <td>36310.945660</td>\n",
       "      <td>27703.969684</td>\n",
       "      <td>165171.541849</td>\n",
       "      <td>185479.485379</td>\n",
       "    </tr>\n",
       "    <tr>\n",
       "      <th>1</th>\n",
       "      <td>127968.913866</td>\n",
       "      <td>154656.710835</td>\n",
       "      <td>81510.507625</td>\n",
       "      <td>58526.744229</td>\n",
       "    </tr>\n",
       "    <tr>\n",
       "      <th>2</th>\n",
       "      <td>92039.159321</td>\n",
       "      <td>100334.388472</td>\n",
       "      <td>108602.268303</td>\n",
       "      <td>112849.066592</td>\n",
       "    </tr>\n",
       "    <tr>\n",
       "      <th>3</th>\n",
       "      <td>98899.808681</td>\n",
       "      <td>118208.251912</td>\n",
       "      <td>2716.616496</td>\n",
       "      <td>94975.203152</td>\n",
       "    </tr>\n",
       "    <tr>\n",
       "      <th>4</th>\n",
       "      <td>92039.159321</td>\n",
       "      <td>167733.916927</td>\n",
       "      <td>108602.268303</td>\n",
       "      <td>45449.538137</td>\n",
       "    </tr>\n",
       "    <tr>\n",
       "      <th>5</th>\n",
       "      <td>100735.845151</td>\n",
       "      <td>62060.062604</td>\n",
       "      <td>86341.415742</td>\n",
       "      <td>151123.392459</td>\n",
       "    </tr>\n",
       "    <tr>\n",
       "      <th>6</th>\n",
       "      <td>100735.845151</td>\n",
       "      <td>71238.794697</td>\n",
       "      <td>86341.415742</td>\n",
       "      <td>141944.660366</td>\n",
       "    </tr>\n",
       "    <tr>\n",
       "      <th>7</th>\n",
       "      <td>134068.088617</td>\n",
       "      <td>188854.870345</td>\n",
       "      <td>66784.471729</td>\n",
       "      <td>24328.584718</td>\n",
       "    </tr>\n",
       "    <tr>\n",
       "      <th>8</th>\n",
       "      <td>64175.902559</td>\n",
       "      <td>194697.686020</td>\n",
       "      <td>132765.912041</td>\n",
       "      <td>18485.769043</td>\n",
       "    </tr>\n",
       "    <tr>\n",
       "      <th>9</th>\n",
       "      <td>20667.693711</td>\n",
       "      <td>31553.125270</td>\n",
       "      <td>183250.128871</td>\n",
       "      <td>181630.329793</td>\n",
       "    </tr>\n",
       "  </tbody>\n",
       "</table>\n",
       "</div>"
      ],
      "text/plain": [
       "        sine_sec  sine_autal_sec     cosine_sec  cosine_autal_sec\n",
       "0   36310.945660    27703.969684  165171.541849     185479.485379\n",
       "1  127968.913866   154656.710835   81510.507625      58526.744229\n",
       "2   92039.159321   100334.388472  108602.268303     112849.066592\n",
       "3   98899.808681   118208.251912    2716.616496      94975.203152\n",
       "4   92039.159321   167733.916927  108602.268303      45449.538137\n",
       "5  100735.845151    62060.062604   86341.415742     151123.392459\n",
       "6  100735.845151    71238.794697   86341.415742     141944.660366\n",
       "7  134068.088617   188854.870345   66784.471729      24328.584718\n",
       "8   64175.902559   194697.686020  132765.912041      18485.769043\n",
       "9   20667.693711    31553.125270  183250.128871     181630.329793"
      ]
     },
     "execution_count": 55,
     "metadata": {},
     "output_type": "execute_result"
    }
   ],
   "source": [
    "df1.head(10)"
   ]
  },
  {
   "cell_type": "code",
   "execution_count": 128,
   "metadata": {},
   "outputs": [
    {
     "data": {
      "text/plain": [
       "'7:03:26'"
      ]
     },
     "execution_count": 128,
     "metadata": {},
     "output_type": "execute_result"
    }
   ],
   "source": [
    "import datetime\n",
    "str(datetime.timedelta(seconds=25406))"
   ]
  },
  {
   "cell_type": "code",
   "execution_count": 129,
   "metadata": {},
   "outputs": [
    {
     "data": {
      "text/plain": [
       "'0:46:33.098046'"
      ]
     },
     "execution_count": 129,
     "metadata": {},
     "output_type": "execute_result"
    }
   ],
   "source": [
    "str(datetime.timedelta(seconds=2793.098046))"
   ]
  },
  {
   "cell_type": "code",
   "execution_count": 101,
   "metadata": {},
   "outputs": [
    {
     "data": {
      "text/plain": [
       "'1 day, 1:50:05.770800'"
      ]
     },
     "execution_count": 101,
     "metadata": {},
     "output_type": "execute_result"
    }
   ],
   "source": [
    "str(datetime.timedelta(seconds=93005.77080))"
   ]
  },
  {
   "cell_type": "code",
   "execution_count": 125,
   "metadata": {},
   "outputs": [
    {
     "data": {
      "text/plain": [
       "'16:23:16'"
      ]
     },
     "execution_count": 125,
     "metadata": {},
     "output_type": "execute_result"
    }
   ],
   "source": [
    "str(datetime.timedelta(seconds=58996))"
   ]
  },
  {
   "cell_type": "code",
   "execution_count": 108,
   "metadata": {},
   "outputs": [
    {
     "data": {
      "text/plain": [
       "996"
      ]
     },
     "execution_count": 108,
     "metadata": {},
     "output_type": "execute_result"
    }
   ],
   "source": [
    "np.sum(sine_sec>86400)"
   ]
  },
  {
   "cell_type": "code",
   "execution_count": 109,
   "metadata": {},
   "outputs": [
    {
     "data": {
      "text/plain": [
       "953"
      ]
     },
     "execution_count": 109,
     "metadata": {},
     "output_type": "execute_result"
    }
   ],
   "source": [
    "np.sum(sine_autal_sec>86400)"
   ]
  },
  {
   "cell_type": "code",
   "execution_count": 110,
   "metadata": {},
   "outputs": [
    {
     "data": {
      "text/plain": [
       "622"
      ]
     },
     "execution_count": 110,
     "metadata": {},
     "output_type": "execute_result"
    }
   ],
   "source": [
    "np.sum(cosine_autal_sec>86400)"
   ]
  },
  {
   "cell_type": "code",
   "execution_count": 111,
   "metadata": {},
   "outputs": [
    {
     "data": {
      "text/plain": [
       "551"
      ]
     },
     "execution_count": 111,
     "metadata": {},
     "output_type": "execute_result"
    }
   ],
   "source": [
    "np.sum(cosine_sec>86400)"
   ]
  },
  {
   "cell_type": "code",
   "execution_count": 126,
   "metadata": {},
   "outputs": [],
   "source": [
    "test = df['del_seconds'].values"
   ]
  },
  {
   "cell_type": "code",
   "execution_count": 132,
   "metadata": {},
   "outputs": [
    {
     "data": {
      "text/plain": [
       "0"
      ]
     },
     "execution_count": 132,
     "metadata": {},
     "output_type": "execute_result"
    }
   ],
   "source": [
    "np.sum(test < 800)"
   ]
  },
  {
   "cell_type": "code",
   "execution_count": 57,
   "metadata": {},
   "outputs": [
    {
     "data": {
      "text/plain": [
       "-0.19970548942551575"
      ]
     },
     "execution_count": 57,
     "metadata": {},
     "output_type": "execute_result"
    }
   ],
   "source": [
    "np.sin(3.34265)"
   ]
  },
  {
   "cell_type": "code",
   "execution_count": null,
   "metadata": {},
   "outputs": [],
   "source": []
  }
 ],
 "metadata": {
  "kernelspec": {
   "display_name": "Python 3",
   "language": "python",
   "name": "python3"
  },
  "language_info": {
   "codemirror_mode": {
    "name": "ipython",
    "version": 3
   },
   "file_extension": ".py",
   "mimetype": "text/x-python",
   "name": "python",
   "nbconvert_exporter": "python",
   "pygments_lexer": "ipython3",
   "version": "3.5.2"
  }
 },
 "nbformat": 4,
 "nbformat_minor": 2
}
