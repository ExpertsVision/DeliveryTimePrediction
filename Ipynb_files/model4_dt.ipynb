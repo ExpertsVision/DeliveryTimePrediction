{
 "cells": [
  {
   "cell_type": "code",
   "execution_count": 2,
   "metadata": {},
   "outputs": [],
   "source": [
    "import matplotlib.pyplot as plt\n",
    "from datetime import datetime\n",
    "import pandas as pd\n",
    "import numpy as np\n",
    "from sklearn.metrics import r2_score\n",
    "from sklearn.model_selection import train_test_split\n",
    "from sklearn.metrics import mean_squared_error\n",
    "from sklearn.preprocessing import StandardScaler\n",
    "from sklearn import tree\n",
    "from sklearn.externals import joblib"
   ]
  },
  {
   "cell_type": "code",
   "execution_count": 3,
   "metadata": {},
   "outputs": [],
   "source": [
    "def get_time(x, c1, c2):     #find the difference between two date columns of dataframe x\n",
    "    diff =  x[c2] - x[c1]\n",
    "    days = diff.days\n",
    "    days_to_hours = days * 24\n",
    "    diff_btw_two_times = (diff.seconds) / 3600\n",
    "    overall_hours = days_to_hours + diff_btw_two_times\n",
    "    return overall_hours"
   ]
  },
  {
   "cell_type": "code",
   "execution_count": 5,
   "metadata": {},
   "outputs": [],
   "source": [
    "file = 'DataForMLLive.xlsx'\n",
    "data = pd.ExcelFile(file)\n",
    "df = data.parse('Order History')"
   ]
  },
  {
   "cell_type": "code",
   "execution_count": 6,
   "metadata": {},
   "outputs": [],
   "source": [
    "col_names= ['Created Time', 'Biker Assigned Time', 'Biker Accepted Time', 'In Bike TIme','Delivered Time']\n",
    "df.dropna(subset=col_names, how='any', inplace = True)"
   ]
  },
  {
   "cell_type": "code",
   "execution_count": 27,
   "metadata": {},
   "outputs": [],
   "source": [
    "timestamp_info = pd.DataFrame(columns=['Created Time', 'Biker Assigned Time', 'Biker Accepted Time', 'In Bike TIme'])\n",
    "timestamp_info[col_names] = df[col_names].apply(pd.to_datetime, format='%Y-%m-%d %H:%M:%S.%f')\n",
    "info_taken = pd.DataFrame(columns= ['Hours2assign', 'Hours2deliver', 'BikerID'])\n",
    "#info_taken['Hours2assign']= df.apply(get_time,c1='Created Time', c2='Biker Assigned Time', axis=1)\n",
    "#info_taken['Hours2accept']= df.apply(get_time,c1='Biker Assigned Time', c2='Biker Accepted Time', axis=1)\n",
    "#info_taken['HoursPkgOnBike'] = df.apply(get_time,c1='Biker Accepted Time', c2='In Bike TIme', axis=1)\n",
    "info_taken['Hours2deliver']= df.apply(get_time, c1='In Bike TIme', c2='Delivered Time', axis=1)\n",
    "info_taken['BikerID'], levels = pd.factorize(df['Biker'])\n",
    "info_taken['LocationCode']= df['Location Code']\n",
    "info_taken['Pending Order By Biker'] = df['Pending Order By Biker']\n",
    "info_taken['Pending Orders Location Wise']= df['Pending Orders Location Wise'] "
   ]
  },
  {
   "cell_type": "code",
   "execution_count": 28,
   "metadata": {},
   "outputs": [
    {
     "data": {
      "image/png": "[encoded data removed]",
      "text/plain": [
       "<Figure size 432x288 with 1 Axes>"
      ]
     },
     "metadata": {},
     "output_type": "display_data"
    }
   ],
   "source": [
    "is_strange =  info_taken['Hours2deliver']>4\n",
    "info_taken= info_taken[~is_strange]\n",
    "plt.plot(info_taken['Hours2deliver'].values, color= 'green', label= 'Hours to deliver') # p\n",
    "plt.ylabel('Hours')\n",
    "plt.xlabel('Sample')\n",
    "plt.title('Time taken to make delivery')\n",
    "plt.legend()\n",
    "plt.show()"
   ]
  },
  {
   "cell_type": "code",
   "execution_count": 56,
   "metadata": {},
   "outputs": [],
   "source": [
    "df = df [~is_strange]\n",
    "timestamp_info = df[['Created Time', 'Biker Assigned Time', 'Biker Accepted Time', 'In Bike TIme']].values.astype(int)\n",
    "location_code = info_taken[['BikerID']].values\n",
    "X = np.concatenate((timestamp_info, location_code), axis=1)\n",
    "#X= info_taken[['LocationCode', 'Pending Order By Biker', 'Pending Orders Location Wise', 'BikerID', 'Hours2assign', 'Hours2accept', 'HoursPkgOnBike']].values #, \n",
    "Y= np.reshape(info_taken['Hours2deliver'].values, -1)"
   ]
  },
  {
   "cell_type": "code",
   "execution_count": 57,
   "metadata": {},
   "outputs": [],
   "source": [
    "X_trn, X_tst, Y_trn, Y_tst = train_test_split(X, Y, test_size=0.3)"
   ]
  },
  {
   "cell_type": "code",
   "execution_count": 66,
   "metadata": {},
   "outputs": [
    {
     "data": {
      "text/plain": [
       "['model4_dt.sav']"
      ]
     },
     "execution_count": 66,
     "metadata": {},
     "output_type": "execute_result"
    }
   ],
   "source": [
    "tree_regression_model = tree.DecisionTreeRegressor(min_samples_split=9, max_depth=16, random_state=0)\n",
    "trained_model = tree_regression_model.fit(X_trn, Y_trn)\n",
    "joblib.dump(trained_model, 'model4_dt.sav')"
   ]
  },
  {
   "cell_type": "code",
   "execution_count": 20,
   "metadata": {},
   "outputs": [],
   "source": [
    "from sklearn.metrics import make_scorer\n",
    "from sklearn.grid_search import GridSearchCV\n",
    "tree_regression_Model = tree.DecisionTreeRegressor(random_state=0)\n",
    "scoring = make_scorer(r2_score)\n",
    "parameters={'max_depth': np.arange(6, 25), 'min_samples_split':np.arange(5, 20)}\n",
    "#cross_validation = StratifiedKFold(n_splits=5)\n",
    "grid_search = GridSearchCV(tree_regression_Model, parameters, cv=5, n_jobs=5, scoring=scoring,verbose=1)"
   ]
  },
  {
   "cell_type": "code",
   "execution_count": 21,
   "metadata": {},
   "outputs": [
    {
     "name": "stdout",
     "output_type": "stream",
     "text": [
      "Fitting 5 folds for each of 285 candidates, totalling 1425 fits\n"
     ]
    },
    {
     "name": "stderr",
     "output_type": "stream",
     "text": [
      "[Parallel(n_jobs=5)]: Done  70 tasks      | elapsed:    2.2s\n",
      "[Parallel(n_jobs=5)]: Done 370 tasks      | elapsed:   14.7s\n",
      "[Parallel(n_jobs=5)]: Done 785 tasks      | elapsed:   44.5s\n",
      "[Parallel(n_jobs=5)]: Done 1135 tasks      | elapsed:  1.3min\n",
      "[Parallel(n_jobs=5)]: Done 1425 out of 1425 | elapsed:  1.8min finished\n"
     ]
    },
    {
     "data": {
      "text/plain": [
       "GridSearchCV(cv=5, error_score='raise',\n",
       "       estimator=DecisionTreeRegressor(criterion='mse', max_depth=None, max_features=None,\n",
       "           max_leaf_nodes=None, min_impurity_decrease=0.0,\n",
       "           min_impurity_split=None, min_samples_leaf=1,\n",
       "           min_samples_split=2, min_weight_fraction_leaf=0.0,\n",
       "           presort=False, random_state=0, splitter='best'),\n",
       "       fit_params={}, iid=True, n_jobs=5,\n",
       "       param_grid={'min_samples_split': array([ 5,  6,  7,  8,  9, 10, 11, 12, 13, 14, 15, 16, 17, 18, 19]), 'max_depth': array([ 6,  7,  8,  9, 10, 11, 12, 13, 14, 15, 16, 17, 18, 19, 20, 21, 22,\n",
       "       23, 24])},\n",
       "       pre_dispatch='2*n_jobs', refit=True, scoring=make_scorer(r2_score),\n",
       "       verbose=1)"
      ]
     },
     "execution_count": 21,
     "metadata": {},
     "output_type": "execute_result"
    }
   ],
   "source": [
    "grid_search.fit(X_trn,Y_trn)"
   ]
  },
  {
   "cell_type": "code",
   "execution_count": 22,
   "metadata": {},
   "outputs": [
    {
     "name": "stdout",
     "output_type": "stream",
     "text": [
      "{'min_samples_split': 9, 'max_depth': 16}\n",
      "[0.16389205 0.19513993 0.14492952 0.14533144 0.32418227 0.0265248 ]\n"
     ]
    }
   ],
   "source": [
    "print(grid_search.best_params_)\n",
    "print(grid_search.best_estimator_.feature_importances_)"
   ]
  },
  {
   "cell_type": "code",
   "execution_count": 63,
   "metadata": {},
   "outputs": [],
   "source": [
    "predict_model = trained_model.predict(X_tst)\n",
    "#predict_model = grid_search.best_estimator_.predict(X_tst)"
   ]
  },
  {
   "cell_type": "code",
   "execution_count": 64,
   "metadata": {},
   "outputs": [
    {
     "name": "stdout",
     "output_type": "stream",
     "text": [
      "Mean squared error: \n",
      "0.16683656260917074\n",
      "r2\n",
      "0.39575242057832805\n"
     ]
    }
   ],
   "source": [
    "print(\"Mean squared error: \"  )\n",
    "mse= mean_squared_error(Y_tst, predict_model)\n",
    "print(mse)\n",
    "\n",
    "print('r2')\n",
    "print(r2_score(Y_tst, predict_model, sample_weight=None, multioutput='uniform_average'))"
   ]
  },
  {
   "cell_type": "code",
   "execution_count": 65,
   "metadata": {},
   "outputs": [
    {
     "data": {
      "image/png": "[encoded data removed]",
      "text/plain": [
       "<Figure size 432x288 with 1 Axes>"
      ]
     },
     "metadata": {},
     "output_type": "display_data"
    }
   ],
   "source": [
    "plt.plot(Y_tst, color= 'yellow', label= 'actual hours taken') # p\n",
    "plt.plot(predict_model, color= 'red', label= 'predicted number of hours to deliver') # p\n",
    "plt.xlabel('Sample')\n",
    "plt.ylabel('Time (in hours)')\n",
    "plt.title('Prediction results on testing data')\n",
    "plt.legend()\n",
    "plt.show()"
   ]
  },
  {
   "cell_type": "code",
   "execution_count": null,
   "metadata": {},
   "outputs": [],
   "source": []
  }
 ],
 "metadata": {
  "kernelspec": {
   "display_name": "Python 3",
   "language": "python",
   "name": "python3"
  },
  "language_info": {
   "codemirror_mode": {
    "name": "ipython",
    "version": 3
   },
   "file_extension": ".py",
   "mimetype": "text/x-python",
   "name": "python",
   "nbconvert_exporter": "python",
   "pygments_lexer": "ipython3",
   "version": "3.5.2"
  }
 },
 "nbformat": 4,
 "nbformat_minor": 2
}
